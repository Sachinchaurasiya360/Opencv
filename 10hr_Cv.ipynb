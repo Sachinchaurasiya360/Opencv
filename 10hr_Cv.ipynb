{
 "cells": [
  {
   "cell_type": "code",
   "execution_count": 5,
   "metadata": {},
   "outputs": [
    {
     "name": "stdout",
     "output_type": "stream",
     "text": [
      "Requirement already satisfied: opencv-python in c:\\users\\sachin chaurasiya\\appdata\\local\\programs\\python\\python310\\lib\\site-packages (4.9.0.80)\n",
      "Requirement already satisfied: numpy>=1.21.2 in c:\\users\\sachin chaurasiya\\appdata\\local\\programs\\python\\python310\\lib\\site-packages (from opencv-python) (1.26.4)\n",
      "Note: you may need to restart the kernel to use updated packages.\n"
     ]
    },
    {
     "name": "stderr",
     "output_type": "stream",
     "text": [
      "\n",
      "[notice] A new release of pip is available: 23.3.2 -> 24.0\n",
      "[notice] To update, run: python.exe -m pip install --upgrade pip\n"
     ]
    }
   ],
   "source": [
    "%pip install opencv-python"
   ]
  },
  {
   "cell_type": "markdown",
   "metadata": {},
   "source": [
    "How To read Picture from  the user"
   ]
  },
  {
   "cell_type": "code",
   "execution_count": null,
   "metadata": {},
   "outputs": [],
   "source": [
    "import cv2\n",
    "img=cv2.imread(\"Sachin pic.jpg\",1)  #There are three channel of colour 0,1,-1 and all these channel change the colour of pic\n",
    "print(img)                          #It will print the matrix of the picture\n",
    "cv2.imshow('Frame',img)\n",
    "cv2.waitKey(0)\n",
    "cv2.destroyAllWindows\n"
   ]
  },
  {
   "cell_type": "markdown",
   "metadata": {},
   "source": [
    "How to read video from the web cam"
   ]
  },
  {
   "cell_type": "code",
   "execution_count": 7,
   "metadata": {},
   "outputs": [],
   "source": [
    "import cv2\n",
    "cap=cv2.VideoCapture(0)\n",
    "while(True):\n",
    "    ret,frame=cap.read()            #ret it will tell whether frame is detected or not and frame will store the value of reading frame\n",
    "    cv2.imshow('frame',frame)       #it will take two parameter first one is frame name and second one is which frame i have to show\n",
    "    if cv2.waitKey(1) & 0XFF==ord('q'):\n",
    "        break\n",
    "cap.release()\n",
    "cv2.destroyAllWindows()"
   ]
  },
  {
   "cell_type": "markdown",
   "metadata": {},
   "source": [
    "How to read gray scale video from the web cam"
   ]
  },
  {
   "cell_type": "code",
   "execution_count": null,
   "metadata": {},
   "outputs": [],
   "source": [
    "import cv2\n",
    "cap=cv2.VideoCapture(0)\n",
    "while(True):\n",
    "    ret,frame=cap.read()\n",
    "    gray=cv2.cvtColor(frame, cv2.COLOR_BGR2GRAY) #converting the frame into gray scale and it take two parameter\n",
    "\n",
    "    cv2.imshow('Video',gray)\n",
    "    if cv2.waitKey(1) & 0xFF==ord('q'):\n",
    "        break\n",
    "cap.release()\n",
    "cv2.destroyAllWindows()\n",
    "    "
   ]
  },
  {
   "cell_type": "markdown",
   "metadata": {},
   "source": [
    "How to save Video from the camera"
   ]
  },
  {
   "cell_type": "code",
   "execution_count": 8,
   "metadata": {},
   "outputs": [],
   "source": [
    "import cv2\n",
    "cap = cv2.VideoCapture(0)\n",
    "fourcc = cv2.VideoWriter_fourcc(*'XVID')  \n",
    "out = cv2.VideoWriter('output.avi', fourcc, 20.0, (640, 480))\n",
    "\n",
    "while True:\n",
    "    ret, frame = cap.read()\n",
    "    gray=cv2.cvtColor(frame, cv2.COLOR_BGR2GRAY) #converting the frame into gray scale and it take two parameter\n",
    "    if ret:\n",
    "        out.write(frame)\n",
    "        cv2.imshow('frame', gray)               #It will show the gray the video in the gray colour\n",
    "        if cv2.waitKey(1) & 0xFF == ord('q'):\n",
    "            break\n",
    "    else:\n",
    "        break\n",
    "\n",
    "cap.release()\n",
    "out.release()\n",
    "cv2.destroyAllWindows()  \n"
   ]
  },
  {
   "cell_type": "markdown",
   "metadata": {},
   "source": [
    "How to draw a line and rectangle on image"
   ]
  },
  {
   "cell_type": "code",
   "execution_count": 1,
   "metadata": {},
   "outputs": [
    {
     "name": "stderr",
     "output_type": "stream",
     "text": [
      "<>:9: SyntaxWarning: 'str' object is not callable; perhaps you missed a comma?\n",
      "<>:9: SyntaxWarning: 'str' object is not callable; perhaps you missed a comma?\n"
     ]
    },
    {
     "name": "stdout",
     "output_type": "stream",
     "text": [
      "[[239 239 238 ... 220 220 222]\n",
      " [240 239 239 ... 218 218 220]\n",
      " [239 239 238 ... 220 220 221]\n",
      " ...\n",
      " [ 95  97 101 ... 142 150 158]\n",
      " [ 98 104 107 ... 144 154 159]\n",
      " [ 98 104 107 ... 144 154 159]]\n"
     ]
    },
    {
     "name": "stderr",
     "output_type": "stream",
     "text": [
      "C:\\Users\\Sachin chaurasiya\\AppData\\Local\\Temp\\ipykernel_13424\\2860205131.py:9: SyntaxWarning: 'str' object is not callable; perhaps you missed a comma?\n",
      "  img=cv2.putText('img','opencv'(10,500),font,4,(255,255,255),10,cv2.LINE_AA)\n",
      "C:\\Users\\Sachin chaurasiya\\AppData\\Local\\Temp\\ipykernel_13424\\2860205131.py:9: SyntaxWarning: 'str' object is not callable; perhaps you missed a comma?\n",
      "  img=cv2.putText('img','opencv'(10,500),font,4,(255,255,255),10,cv2.LINE_AA)\n",
      "C:\\Users\\Sachin chaurasiya\\AppData\\Local\\Temp\\ipykernel_13424\\2860205131.py:9: SyntaxWarning: 'str' object is not callable; perhaps you missed a comma?\n",
      "  img=cv2.putText('img','opencv'(10,500),font,4,(255,255,255),10,cv2.LINE_AA)\n",
      "C:\\Users\\Sachin chaurasiya\\AppData\\Local\\Temp\\ipykernel_13424\\2860205131.py:9: SyntaxWarning: 'str' object is not callable; perhaps you missed a comma?\n",
      "  img=cv2.putText('img','opencv'(10,500),font,4,(255,255,255),10,cv2.LINE_AA)\n"
     ]
    },
    {
     "ename": "TypeError",
     "evalue": "'str' object is not callable",
     "output_type": "error",
     "traceback": [
      "\u001b[1;31m---------------------------------------------------------------------------\u001b[0m",
      "\u001b[1;31mTypeError\u001b[0m                                 Traceback (most recent call last)",
      "Cell \u001b[1;32mIn[1], line 9\u001b[0m\n\u001b[0;32m      7\u001b[0m img\u001b[38;5;241m=\u001b[39mcv2\u001b[38;5;241m.\u001b[39mrectangle(img,(\u001b[38;5;241m384\u001b[39m,\u001b[38;5;241m0\u001b[39m),(\u001b[38;5;241m510\u001b[39m,\u001b[38;5;241m128\u001b[39m),(\u001b[38;5;241m0\u001b[39m,\u001b[38;5;241m0\u001b[39m,\u001b[38;5;241m255\u001b[39m),\u001b[38;5;241m1\u001b[39m) \u001b[38;5;66;03m#it will draw a rectangel last one is thickness if we use -1 it will fill the rectangle\u001b[39;00m\n\u001b[0;32m      8\u001b[0m font\u001b[38;5;241m=\u001b[39mcv2\u001b[38;5;241m.\u001b[39mFONT_HERSHEY_COMPLEX\n\u001b[1;32m----> 9\u001b[0m img\u001b[38;5;241m=\u001b[39mcv2\u001b[38;5;241m.\u001b[39mputText(\u001b[38;5;124m'\u001b[39m\u001b[38;5;124mimg\u001b[39m\u001b[38;5;124m'\u001b[39m,\u001b[38;5;124;43m'\u001b[39;49m\u001b[38;5;124;43mopencv\u001b[39;49m\u001b[38;5;124;43m'\u001b[39;49m\u001b[43m(\u001b[49m\u001b[38;5;241;43m10\u001b[39;49m\u001b[43m,\u001b[49m\u001b[38;5;241;43m500\u001b[39;49m\u001b[43m)\u001b[49m,font,\u001b[38;5;241m4\u001b[39m,(\u001b[38;5;241m255\u001b[39m,\u001b[38;5;241m255\u001b[39m,\u001b[38;5;241m255\u001b[39m),\u001b[38;5;241m10\u001b[39m,cv2\u001b[38;5;241m.\u001b[39mLINE_AA)\n\u001b[0;32m     10\u001b[0m cv2\u001b[38;5;241m.\u001b[39mimshow(\u001b[38;5;124m'\u001b[39m\u001b[38;5;124mframe\u001b[39m\u001b[38;5;124m'\u001b[39m,img)\n\u001b[0;32m     11\u001b[0m cv2\u001b[38;5;241m.\u001b[39mwaitKey()\n",
      "\u001b[1;31mTypeError\u001b[0m: 'str' object is not callable"
     ]
    }
   ],
   "source": [
    "import numpy as np\n",
    "import cv2\n",
    "img=cv2.imread('test.jpg',0) #if we did't give second parameter then it will load default\n",
    "print(img)\n",
    "img=cv2.line(img,(0,0),(255,255),(255,0,0),4) #it will draw a line on image and it take four argumant (name of image,startig point,ending point,thickness)\n",
    "img=cv2.arrowedLine(img,(155,0),(255,263),(255,0,0),4) #it will draw a line on image and it take four argumant (name of image,startig point,ending point,thickness) it will draw arrow line\n",
    "img=cv2.rectangle(img,(384,0),(510,128),(0,0,255),1) #it will draw a rectangel last one is thickness if we use -1 it will fill the rectangle\n",
    "font=cv2.FONT_HERSHEY_COMPLEX\n",
    "#img=cv2.putText('img','opencv'(10,500),font,4,(255,255,255),10,cv2.LINE_AA)\n",
    "cv2.imshow('frame',img)\n",
    "cv2.waitKey()\n",
    "cv2.destroyAllWindows"
   ]
  },
  {
   "cell_type": "markdown",
   "metadata": {},
   "source": [
    "How to reset the frame size in Open cv"
   ]
  },
  {
   "cell_type": "code",
   "execution_count": 1,
   "metadata": {},
   "outputs": [
    {
     "name": "stdout",
     "output_type": "stream",
     "text": [
      "640.0\n",
      "-1.0\n",
      "1280.0\n",
      "-1.0\n"
     ]
    },
    {
     "data": {
      "text/plain": [
       "<function destroyAllWindows>"
      ]
     },
     "execution_count": 1,
     "metadata": {},
     "output_type": "execute_result"
    }
   ],
   "source": [
    "import cv2\n",
    "cap=cv2.VideoCapture(0)\n",
    "print(cap.get(cv2.CAP_PROP_FRAME_WIDTH))\n",
    "print(cap.get(cv2.CAP_PROP_FRAME_TYPE))\n",
    "cap.set(3,1200)\n",
    "cap.set(4,1200)\n",
    "print(cap.get(cv2.CAP_PROP_FRAME_WIDTH))\n",
    "print(cap.get(cv2.CAP_PROP_FRAME_TYPE))\n",
    "while True:\n",
    "    ret,frame=cap.read()\n",
    "    cv2.imshow('frame',frame)\n",
    "    if cv2.waitKey(1) & 0xFF==ord('q'):\n",
    "        break\n",
    "cap.release()\n",
    "cv2.destroyAllWindows\n",
    "    \n",
    "    "
   ]
  }
 ],
 "metadata": {
  "kernelspec": {
   "display_name": "venv",
   "language": "python",
   "name": "python3"
  },
  "language_info": {
   "codemirror_mode": {
    "name": "ipython",
    "version": 3
   },
   "file_extension": ".py",
   "mimetype": "text/x-python",
   "name": "python",
   "nbconvert_exporter": "python",
   "pygments_lexer": "ipython3",
   "version": "3.10.11"
  }
 },
 "nbformat": 4,
 "nbformat_minor": 2
}
